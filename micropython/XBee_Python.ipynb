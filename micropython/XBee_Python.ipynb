{
 "cells": [
  {
   "cell_type": "code",
   "execution_count": 1,
   "metadata": {},
   "outputs": [
    {
     "name": "stdout",
     "output_type": "stream",
     "text": [
      "/dev/cu.Bluetooth-Incoming-Port: n/a [n/a]\n",
      "/dev/cu.usbserial-D30DP79J: FT231X USB UART [USB VID:PID=0403:6015 SER=D30DP79J LOCATION=0-1]\n",
      "\n",
      "Chosen Port: /dev/cu.usbserial-D30DP79J\n"
     ]
    }
   ],
   "source": [
    "import serial.tools.list_ports\n",
    "import random\n",
    "import time\n",
    "\n",
    "ports = serial.tools.list_ports.comports()\n",
    "\n",
    "for port, desc, hwid in sorted(ports):\n",
    "    print(\"{}: {} [{}]\".format(port, desc, hwid))\n",
    "    if \"D30DP79J\" in hwid:\n",
    "        xbee_port = port\n",
    "        print(\"\\nChosen Port:\", xbee_port)"
   ]
  },
  {
   "cell_type": "code",
   "execution_count": 7,
   "metadata": {},
   "outputs": [
    {
     "name": "stdout",
     "output_type": "stream",
     "text": [
      "Average frequency of execution: -8.050869977539158e-10 times per second\n"
     ]
    },
    {
     "ename": "KeyboardInterrupt",
     "evalue": "",
     "output_type": "error",
     "traceback": [
      "\u001b[0;31m---------------------------------------------------------------------------\u001b[0m",
      "\u001b[0;31mKeyboardInterrupt\u001b[0m                         Traceback (most recent call last)",
      "Cell \u001b[0;32mIn[7], line 43\u001b[0m\n\u001b[1;32m     13\u001b[0m data \u001b[38;5;241m=\u001b[39m (\n\u001b[1;32m     14\u001b[0m     \u001b[38;5;28mstr\u001b[39m(current_time \u001b[38;5;241m-\u001b[39m start_time)\n\u001b[1;32m     15\u001b[0m     \u001b[38;5;241m+\u001b[39m \u001b[38;5;124m\"\u001b[39m\u001b[38;5;124m1,\u001b[39m\u001b[38;5;124m\"\u001b[39m\n\u001b[0;32m   (...)\u001b[0m\n\u001b[1;32m     39\u001b[0m     \u001b[38;5;241m+\u001b[39m \u001b[38;5;28mstr\u001b[39m(number)\n\u001b[1;32m     40\u001b[0m )\n\u001b[1;32m     42\u001b[0m \u001b[38;5;66;03m# print(str(data))\u001b[39;00m\n\u001b[0;32m---> 43\u001b[0m \u001b[43mserial_\u001b[49m\u001b[38;5;241;43m.\u001b[39;49m\u001b[43mwrite\u001b[49m\u001b[43m(\u001b[49m\u001b[38;5;28;43mstr\u001b[39;49m\u001b[43m(\u001b[49m\u001b[43mdata\u001b[49m\u001b[43m)\u001b[49m\u001b[38;5;241;43m.\u001b[39;49m\u001b[43mencode\u001b[49m\u001b[43m(\u001b[49m\u001b[43m)\u001b[49m\u001b[43m)\u001b[49m\n\u001b[1;32m     45\u001b[0m \u001b[38;5;66;03m# # Record the data\u001b[39;00m\n\u001b[1;32m     46\u001b[0m data_dict[number] \u001b[38;5;241m=\u001b[39m {\u001b[38;5;124m\"\u001b[39m\u001b[38;5;124mtime\u001b[39m\u001b[38;5;124m\"\u001b[39m: current_time, \u001b[38;5;124m\"\u001b[39m\u001b[38;5;124mnumber\u001b[39m\u001b[38;5;124m\"\u001b[39m: number}\n",
      "File \u001b[0;32m~/anaconda3/envs/rehab-eng/lib/python3.8/site-packages/serial/serialposix.py:640\u001b[0m, in \u001b[0;36mSerial.write\u001b[0;34m(self, data)\u001b[0m\n\u001b[1;32m    638\u001b[0m \u001b[38;5;28;01massert\u001b[39;00m timeout\u001b[38;5;241m.\u001b[39mtime_left() \u001b[38;5;129;01mis\u001b[39;00m \u001b[38;5;28;01mNone\u001b[39;00m\n\u001b[1;32m    639\u001b[0m \u001b[38;5;66;03m# wait for write operation\u001b[39;00m\n\u001b[0;32m--> 640\u001b[0m abort, ready, _ \u001b[38;5;241m=\u001b[39m \u001b[43mselect\u001b[49m\u001b[38;5;241;43m.\u001b[39;49m\u001b[43mselect\u001b[49m\u001b[43m(\u001b[49m\u001b[43m[\u001b[49m\u001b[38;5;28;43mself\u001b[39;49m\u001b[38;5;241;43m.\u001b[39;49m\u001b[43mpipe_abort_write_r\u001b[49m\u001b[43m]\u001b[49m\u001b[43m,\u001b[49m\u001b[43m \u001b[49m\u001b[43m[\u001b[49m\u001b[38;5;28;43mself\u001b[39;49m\u001b[38;5;241;43m.\u001b[39;49m\u001b[43mfd\u001b[49m\u001b[43m]\u001b[49m\u001b[43m,\u001b[49m\u001b[43m \u001b[49m\u001b[43m[\u001b[49m\u001b[43m]\u001b[49m\u001b[43m,\u001b[49m\u001b[43m \u001b[49m\u001b[38;5;28;43;01mNone\u001b[39;49;00m\u001b[43m)\u001b[49m\n\u001b[1;32m    641\u001b[0m \u001b[38;5;28;01mif\u001b[39;00m abort:\n\u001b[1;32m    642\u001b[0m     os\u001b[38;5;241m.\u001b[39mread(\u001b[38;5;28mself\u001b[39m\u001b[38;5;241m.\u001b[39mpipe_abort_write_r, \u001b[38;5;241m1\u001b[39m)\n",
      "\u001b[0;31mKeyboardInterrupt\u001b[0m: "
     ]
    }
   ],
   "source": [
    "serial_ = serial.Serial(xbee_port, 115200)\n",
    "\n",
    "start_time = round(time.time() * 1000)\n",
    "\n",
    "data_dict = {}\n",
    "number = 900\n",
    "\n",
    "try:\n",
    "    while True:\n",
    "        current_time = round(time.time() * 1000)\n",
    "\n",
    "        data = (\n",
    "            str(current_time - start_time)\n",
    "            + \"1,\"\n",
    "            + \",AA,\"\n",
    "            + str(number)\n",
    "            + \",\"\n",
    "            + str(number)\n",
    "            + \",\"\n",
    "            + str(number)\n",
    "            + \",AB,\"\n",
    "            + str(number)\n",
    "            + \",\"\n",
    "            + str(number)\n",
    "            + \",\"\n",
    "            + str(number)\n",
    "            + \",BA,\"\n",
    "            + str(number)\n",
    "            + \",\"\n",
    "            + str(number)\n",
    "            + \",\"\n",
    "            + str(number)\n",
    "            + \",BB,\"\n",
    "            + str(number)\n",
    "            + \",\"\n",
    "            + str(number)\n",
    "            + \",\"\n",
    "            + str(number)\n",
    "        )\n",
    "\n",
    "        # print(str(data))\n",
    "        serial_.write(str(data).encode())\n",
    "\n",
    "        # # Record the data\n",
    "        data_dict[number] = {\"time\": current_time, \"number\": number}\n",
    "\n",
    "        number += 1\n",
    "\n",
    "except Exception as e:\n",
    "    print(f\"An error occurred: {e}\")\n",
    "finally:\n",
    "    # Calculate and print the average frequency of execution\n",
    "    execution_time = time.time() - start_time\n",
    "    frequency = number / execution_time\n",
    "    print(f\"Average frequency of execution: {frequency} times per second\")\n",
    "\n",
    "    # Close the serial port\n",
    "    serial_.close()"
   ]
  },
  {
   "cell_type": "code",
   "execution_count": 38,
   "metadata": {},
   "outputs": [],
   "source": [
    "data = \">12345,1,AA,10.5,20.6,30.7,AB,40.8,50.9,60.0,BA,70.1,80.2,90.3,BB,100.4,110.5,120.6\"\n",
    "data1 = \">12345,1,AA,10.5,20.6,30.7,AB,40.8,50.9,60.0,BA,70.1,80\"\n",
    "data2 = \".2,90.3,BB,100.4,110.5,120.6>12345,1,AA,10.5,20.6,30.7,\""
   ]
  },
  {
   "cell_type": "code",
   "execution_count": 49,
   "metadata": {},
   "outputs": [
    {
     "name": "stdout",
     "output_type": "stream",
     "text": [
      "{'time': '12345', 'matchbit': '1', 'AA': '10.5,20.6,30.7', 'AB': '40.8,50.9,60.0', 'BA': '70.1,80.2,90.3', 'BB': '100.4,110.5,120.6'}\n"
     ]
    }
   ],
   "source": [
    "def parse_string(data_str):\n",
    "    parts = data_str.split(\",\")\n",
    "\n",
    "    data = {\n",
    "        \"time\": parts[0][1:],\n",
    "        \"matchbit\": parts[1],\n",
    "        parts[2]: str(parts[3]) + \",\" + str(parts[4]) + \",\" + str(parts[5]),\n",
    "        parts[6]: str(parts[7]) + \",\" + str(parts[8]) + \",\" + str(parts[9]),\n",
    "        parts[10]: str(parts[11]) + \",\" + str(parts[12]) + \",\" + str(parts[13]),\n",
    "        parts[14]: str(parts[15]) + \",\" + str(parts[16]) + \",\" + str(parts[17]),\n",
    "    }\n",
    "\n",
    "    return data\n",
    "\n",
    "\n",
    "start = data1.find(\">\")\n",
    "end = data1.find(\">\", start + 1)\n",
    "\n",
    "if end != -1:\n",
    "    string = data1[start + 1 : end]\n",
    "\n",
    "else:\n",
    "    start2 = data2.find(\">\")\n",
    "    string = data1[start + 1 :] + data2[0:start2]\n",
    "\n",
    "# Parse the string\n",
    "parsed_data = parse_string(data)\n",
    "print(parsed_data)"
   ]
  },
  {
   "cell_type": "code",
   "execution_count": 52,
   "metadata": {},
   "outputs": [],
   "source": [
    "out = parsed_data[\"time\"] + \",\" + parsed_data[\"matchbit\"] + \",\" + parsed_data[\"AA\"]"
   ]
  },
  {
   "cell_type": "code",
   "execution_count": 14,
   "metadata": {},
   "outputs": [
    {
     "name": "stdout",
     "output_type": "stream",
     "text": [
      "{'AB': '86,86,86', 'AA': '86,86,86', 'BA': '86,86,86', 'BB': '86,86,86', 'match': '1', 'time': '2103'}\n"
     ]
    }
   ],
   "source": [
    "rec = str(data)\n",
    "\n",
    "# parse rec to a dictionary\n",
    "rec = rec[1:-1]\n",
    "\n",
    "rec = rec.replace(\"'\", \"\")\n",
    "rec = rec.split(\", \")\n",
    "rec = [x.split(\": \") for x in rec]\n",
    "rec = {x[0]: x[1] for x in rec}\n",
    "\n",
    "print(rec)"
   ]
  },
  {
   "cell_type": "code",
   "execution_count": 304,
   "metadata": {},
   "outputs": [
    {
     "name": "stdout",
     "output_type": "stream",
     "text": [
      "473740 41 13 212\n"
     ]
    }
   ],
   "source": [
    "start_time = 1705466473.2120728\n",
    "\n",
    "# Extract hours, minutes, seconds, and milliseconds\n",
    "hours = int(start_time // 3600)\n",
    "minutes = int((start_time % 3600) // 60)\n",
    "seconds = int(start_time % 60)\n",
    "millis = int((start_time - int(start_time)) * 1000)\n",
    "\n",
    "print(hours, minutes, seconds, millis)"
   ]
  },
  {
   "cell_type": "code",
   "execution_count": null,
   "metadata": {},
   "outputs": [],
   "source": []
  },
  {
   "cell_type": "code",
   "execution_count": 30,
   "metadata": {},
   "outputs": [
    {
     "name": "stdout",
     "output_type": "stream",
     "text": [
      "b'1,2103,86,86,86\\n'\n"
     ]
    }
   ],
   "source": [
    "ROBOT_ID = \"AB\"\n",
    "\n",
    "receivedMsg = \"{'AB': '86,86,86', 'AA': '86,86,86', 'BA': '86,86,86', 'BB': '86,86,86', 'match': '1', \"\n",
    "\n",
    "\n",
    "if receivedMsg:\n",
    "    startString = receivedMsg.find(\"{\") + 1\n",
    "    endString = receivedMsg.find(\"}\", startString)\n",
    "\n",
    "    string = receivedMsg[startString:endString]\n",
    "\n",
    "    if endString == -1:\n",
    "        receivedMsg2 = \" 'time': '2103'}{'AB': '86,86,86', 'AA': '86,86,86', 'BA': '86,86,86', 'BB': '86,86,86', 'match': '1',\"\n",
    "        endString2 = receivedMsg2.find(\"}\")\n",
    "\n",
    "        if endString2 < receivedMsg2.find(\"{\"):\n",
    "            string = string + receivedMsg2[:(endString2)]\n",
    "\n",
    "    string = string.replace(\"'\", \"\")\n",
    "    string = string.split(\", \")\n",
    "    string = [x.split(\": \") for x in string]\n",
    "    data = {x[0]: x[1] for x in string}\n",
    "    out = (\n",
    "        str(data[\"match\"]) + \",\" + str(data[\"time\"]) + \",\" + str(data[ROBOT_ID]) + \"\\n\"\n",
    "    )\n",
    "\n",
    "    print(out.encode())"
   ]
  }
 ],
 "metadata": {
  "kernelspec": {
   "display_name": "rehab-eng",
   "language": "python",
   "name": "python3"
  },
  "language_info": {
   "codemirror_mode": {
    "name": "ipython",
    "version": 3
   },
   "file_extension": ".py",
   "mimetype": "text/x-python",
   "name": "python",
   "nbconvert_exporter": "python",
   "pygments_lexer": "ipython3",
   "version": "3.8.18"
  }
 },
 "nbformat": 4,
 "nbformat_minor": 2
}

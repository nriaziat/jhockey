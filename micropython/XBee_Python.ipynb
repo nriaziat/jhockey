{
 "cells": [
  {
   "cell_type": "code",
   "execution_count": 3,
   "metadata": {},
   "outputs": [
    {
     "name": "stdout",
     "output_type": "stream",
     "text": [
      "xbee_port: /dev/cu.usbserial-D30DP79J\n"
     ]
    }
   ],
   "source": [
    "import serial.tools.list_ports\n",
    "import random\n",
    "import time\n",
    "from digi.xbee.devices import XBeeDevice\n",
    "\n",
    "ports = serial.tools.list_ports.comports()\n",
    "\n",
    "for port, desc, hwid in sorted(ports):\n",
    "    if \"D30DP79J\" in hwid:\n",
    "        xbee_port = port\n",
    "        print(\"xbee_port:\", xbee_port)"
   ]
  },
  {
   "cell_type": "code",
   "execution_count": 7,
   "metadata": {},
   "outputs": [],
   "source": [
    "# Xbee Lib\n",
    "\n",
    "device = XBeeDevice(xbee_port, 115200)\n",
    "\n",
    "start_time = round(time.time() * 1000)\n",
    "\n",
    "data_dict = {}\n",
    "number = 900\n",
    "\n",
    "try:\n",
    "    device.open()\n",
    "\n",
    "    while True:\n",
    "        current_time = round(time.time() * 1000)\n",
    "\n",
    "        data = (\n",
    "            \">\"\n",
    "            + str(current_time - start_time)\n",
    "            + \",1\"\n",
    "            + \",AA,\"\n",
    "            + str(number)\n",
    "            + \",\"\n",
    "            + str(number)\n",
    "            + \",\"\n",
    "            + str(number)\n",
    "            + \",AB,\"\n",
    "            + str(number)\n",
    "            + \",\"\n",
    "            + str(number)\n",
    "            + \",\"\n",
    "            + str(number)\n",
    "            + \",BA,\"\n",
    "            + str(number)\n",
    "            + \",\"\n",
    "            + str(number)\n",
    "            + \",\"\n",
    "            + str(number)\n",
    "            + \",BB,\"\n",
    "            + str(number)\n",
    "            + \",\"\n",
    "            + str(number)\n",
    "            + \",\"\n",
    "            + str(number)\n",
    "        )\n",
    "\n",
    "        # print(str(data))\n",
    "        device.send_data_broadcast(data)\n",
    "\n",
    "        # # Record the data\n",
    "        data_dict[number] = {\"time\": current_time, \"number\": number}\n",
    "\n",
    "        number += 1\n",
    "\n",
    "# except Exception as e:\n",
    "#     print(f\"An error occurred: {e}\")\n",
    "\n",
    "except:\n",
    "    device.close()"
   ]
  },
  {
   "cell_type": "code",
   "execution_count": 19,
   "metadata": {},
   "outputs": [
    {
     "name": "stdout",
     "output_type": "stream",
     "text": [
      "Average frequency of execution: -9.68213028853439e-10 times per second\n"
     ]
    },
    {
     "ename": "KeyboardInterrupt",
     "evalue": "",
     "output_type": "error",
     "traceback": [
      "\u001b[0;31m---------------------------------------------------------------------------\u001b[0m",
      "\u001b[0;31mKeyboardInterrupt\u001b[0m                         Traceback (most recent call last)",
      "Cell \u001b[0;32mIn[19], line 45\u001b[0m\n\u001b[1;32m     14\u001b[0m data \u001b[38;5;241m=\u001b[39m (\n\u001b[1;32m     15\u001b[0m     \u001b[38;5;124m\"\u001b[39m\u001b[38;5;124m>\u001b[39m\u001b[38;5;124m\"\u001b[39m\n\u001b[1;32m     16\u001b[0m     \u001b[38;5;241m+\u001b[39m \u001b[38;5;28mstr\u001b[39m(current_time \u001b[38;5;241m-\u001b[39m start_time)\n\u001b[0;32m   (...)\u001b[0m\n\u001b[1;32m     41\u001b[0m     \u001b[38;5;241m+\u001b[39m \u001b[38;5;28mstr\u001b[39m(number)\n\u001b[1;32m     42\u001b[0m )\n\u001b[1;32m     44\u001b[0m \u001b[38;5;66;03m# print(str(data))\u001b[39;00m\n\u001b[0;32m---> 45\u001b[0m \u001b[43mserial_\u001b[49m\u001b[38;5;241;43m.\u001b[39;49m\u001b[43mwrite\u001b[49m\u001b[43m(\u001b[49m\u001b[38;5;28;43mstr\u001b[39;49m\u001b[43m(\u001b[49m\u001b[43mdata\u001b[49m\u001b[43m)\u001b[49m\u001b[38;5;241;43m.\u001b[39;49m\u001b[43mencode\u001b[49m\u001b[43m(\u001b[49m\u001b[43m)\u001b[49m\u001b[43m)\u001b[49m\n\u001b[1;32m     47\u001b[0m \u001b[38;5;66;03m# # Record the data\u001b[39;00m\n\u001b[1;32m     48\u001b[0m data_dict[number] \u001b[38;5;241m=\u001b[39m {\u001b[38;5;124m\"\u001b[39m\u001b[38;5;124mtime\u001b[39m\u001b[38;5;124m\"\u001b[39m: current_time, \u001b[38;5;124m\"\u001b[39m\u001b[38;5;124mnumber\u001b[39m\u001b[38;5;124m\"\u001b[39m: number}\n",
      "File \u001b[0;32m~/anaconda3/envs/rehab-eng/lib/python3.8/site-packages/serial/serialposix.py:640\u001b[0m, in \u001b[0;36mSerial.write\u001b[0;34m(self, data)\u001b[0m\n\u001b[1;32m    638\u001b[0m \u001b[38;5;28;01massert\u001b[39;00m timeout\u001b[38;5;241m.\u001b[39mtime_left() \u001b[38;5;129;01mis\u001b[39;00m \u001b[38;5;28;01mNone\u001b[39;00m\n\u001b[1;32m    639\u001b[0m \u001b[38;5;66;03m# wait for write operation\u001b[39;00m\n\u001b[0;32m--> 640\u001b[0m abort, ready, _ \u001b[38;5;241m=\u001b[39m \u001b[43mselect\u001b[49m\u001b[38;5;241;43m.\u001b[39;49m\u001b[43mselect\u001b[49m\u001b[43m(\u001b[49m\u001b[43m[\u001b[49m\u001b[38;5;28;43mself\u001b[39;49m\u001b[38;5;241;43m.\u001b[39;49m\u001b[43mpipe_abort_write_r\u001b[49m\u001b[43m]\u001b[49m\u001b[43m,\u001b[49m\u001b[43m \u001b[49m\u001b[43m[\u001b[49m\u001b[38;5;28;43mself\u001b[39;49m\u001b[38;5;241;43m.\u001b[39;49m\u001b[43mfd\u001b[49m\u001b[43m]\u001b[49m\u001b[43m,\u001b[49m\u001b[43m \u001b[49m\u001b[43m[\u001b[49m\u001b[43m]\u001b[49m\u001b[43m,\u001b[49m\u001b[43m \u001b[49m\u001b[38;5;28;43;01mNone\u001b[39;49;00m\u001b[43m)\u001b[49m\n\u001b[1;32m    641\u001b[0m \u001b[38;5;28;01mif\u001b[39;00m abort:\n\u001b[1;32m    642\u001b[0m     os\u001b[38;5;241m.\u001b[39mread(\u001b[38;5;28mself\u001b[39m\u001b[38;5;241m.\u001b[39mpipe_abort_write_r, \u001b[38;5;241m1\u001b[39m)\n",
      "\u001b[0;31mKeyboardInterrupt\u001b[0m: "
     ]
    }
   ],
   "source": [
    "# SERIAL DUMPING\n",
    "\n",
    "serial_ = serial.Serial(xbee_port, 115200)\n",
    "\n",
    "start_time = round(time.time() * 1000)\n",
    "\n",
    "data_dict = {}\n",
    "number = 0\n",
    "\n",
    "try:\n",
    "    while True:\n",
    "        current_time = round(time.time() * 1000)\n",
    "\n",
    "        data = (\n",
    "            \">\"\n",
    "            + str(current_time - start_time)\n",
    "            + \",1\"\n",
    "            + \",AA,\"\n",
    "            + str(number)\n",
    "            + \",\"\n",
    "            + str(number)\n",
    "            + \",\"\n",
    "            + str(number)\n",
    "            + \",AB,\"\n",
    "            + str(number)\n",
    "            + \",\"\n",
    "            + str(number)\n",
    "            + \",\"\n",
    "            + str(number)\n",
    "            + \",BA,\"\n",
    "            + str(number)\n",
    "            + \",\"\n",
    "            + str(number)\n",
    "            + \",\"\n",
    "            + str(number)\n",
    "            + \",BB,\"\n",
    "            + str(number)\n",
    "            + \",\"\n",
    "            + str(number)\n",
    "            + \",\"\n",
    "            + str(number)\n",
    "        )\n",
    "\n",
    "        # print(str(data))\n",
    "        serial_.write(str(data).encode())\n",
    "\n",
    "        # # Record the data\n",
    "        data_dict[number] = {\"time\": current_time, \"number\": number}\n",
    "\n",
    "        number += 1\n",
    "\n",
    "except Exception as e:\n",
    "    print(f\"An error occurred: {e}\")\n",
    "\n",
    "finally:\n",
    "    # Calculate and print the average frequency of execution\n",
    "    execution_time = time.time() - start_time\n",
    "    frequency = number / execution_time\n",
    "    print(f\"Average frequency of execution: {frequency} times per second\")\n",
    "\n",
    "    # Close the serial port\n",
    "    serial_.close()"
   ]
  },
  {
   "cell_type": "code",
   "execution_count": 15,
   "metadata": {},
   "outputs": [
    {
     "data": {
      "text/plain": [
       "'>379142,1,AA,48842,48842,48842,AB,48842,48842,48842,BA,48842,48842,48842,BB,48842,48842,48842'"
      ]
     },
     "execution_count": 15,
     "metadata": {},
     "output_type": "execute_result"
    }
   ],
   "source": [
    "data"
   ]
  },
  {
   "cell_type": "code",
   "execution_count": null,
   "metadata": {},
   "outputs": [],
   "source": [
    "# make a string of a 114 1s\n",
    "data = str(1) * 114"
   ]
  },
  {
   "cell_type": "markdown",
   "metadata": {},
   "source": [
    "max payload = 114\n",
    "\n",
    "start = 1\n",
    "\n",
    "time = 6\n",
    "match = 1\n",
    "\n",
    "remaining characters = 108\n",
    "\n",
    "AA = 2 (tag #1)\n",
    "A_x = 4\n",
    "A_y = 4\n",
    "A_th = 2\n",
    "\n",
    "each robot = 12\n",
    "\n",
    "therefore, total robots = 9\n"
   ]
  },
  {
   "cell_type": "code",
   "execution_count": 18,
   "metadata": {},
   "outputs": [],
   "source": [
    "data = \">1111112AA1111222233AB1111222233BA1111222233BB1111222233\""
   ]
  },
  {
   "cell_type": "code",
   "execution_count": 19,
   "metadata": {},
   "outputs": [],
   "source": []
  },
  {
   "cell_type": "code",
   "execution_count": 38,
   "metadata": {},
   "outputs": [],
   "source": [
    "def parse_robot_data(data):\n",
    "    # Define the lengths of each field\n",
    "    start_len = 1\n",
    "    time_len = 6\n",
    "    match_len = 1\n",
    "\n",
    "    robot_id_len = 2\n",
    "    robot_coord_len = 4\n",
    "    robot_angle_len = 2\n",
    "\n",
    "    # Initialize the dictionary to store the parsed data\n",
    "    parsed_data = {\n",
    "        \"start\": data[0:start_len],\n",
    "        \"time\": data[start_len : start_len + time_len],\n",
    "        \"match\": data[start_len + time_len : start_len + time_len + match_len],\n",
    "    }\n",
    "\n",
    "    # Set the initial index after the start, time, and match fields\n",
    "    current_index = start_len + time_len + match_len\n",
    "\n",
    "    # Iterate to parse each robot's data\n",
    "    for i in range(4):\n",
    "        # Extract each field for the robot\n",
    "        robot_id = data[current_index : current_index + robot_id_len]\n",
    "        current_index += robot_id_len\n",
    "\n",
    "        robot_x_coord = data[current_index : current_index + robot_coord_len]\n",
    "        current_index += robot_coord_len\n",
    "\n",
    "        robot_y_coord = data[current_index : current_index + robot_coord_len]\n",
    "        current_index += robot_coord_len\n",
    "\n",
    "        robot_angle = data[current_index : current_index + robot_angle_len]\n",
    "        current_index += robot_angle_len\n",
    "\n",
    "        # Store the robot's data in the dictionary\n",
    "        parsed_data[robot_id] = {\n",
    "            str(robot_x_coord) + \",\" + str(robot_y_coord) + \",\" + str(robot_angle)\n",
    "        }\n",
    "\n",
    "    return parsed_data"
   ]
  },
  {
   "cell_type": "code",
   "execution_count": 39,
   "metadata": {},
   "outputs": [
    {
     "data": {
      "text/plain": [
       "{'start': '>',\n",
       " 'time': '111111',\n",
       " 'match': '2',\n",
       " 'AA': {'1111,2222,33'},\n",
       " 'AB': {'1111,2222,33'},\n",
       " 'BA': {'1111,2222,33'},\n",
       " 'BB': {'1111,2222,33'}}"
      ]
     },
     "execution_count": 39,
     "metadata": {},
     "output_type": "execute_result"
    }
   ],
   "source": [
    "parse_robot_data(data)"
   ]
  },
  {
   "cell_type": "code",
   "execution_count": 31,
   "metadata": {},
   "outputs": [
    {
     "name": "stdout",
     "output_type": "stream",
     "text": [
      "AA 1111 2222 33\n",
      "AB 1111 2222 33\n",
      "BA 1111 2222 33\n",
      "BB 1111 2222 33\n"
     ]
    }
   ],
   "source": [
    "start_ = 1\n",
    "time_ = 6\n",
    "match_ = 1\n",
    "\n",
    "robotidlen = 2\n",
    "robotcoordlen = 4\n",
    "numberofcoords = 2\n",
    "robotanglelen = 2\n",
    "\n",
    "start = data[0:1]\n",
    "t = data[1:7]\n",
    "match = data[7:8]\n",
    "\n",
    "current_index = 8\n",
    "\n",
    "for i in range(4):\n",
    "    robot_id = data[current_index : current_index + robotidlen]\n",
    "    current_index += robotidlen\n",
    "\n",
    "    robot_x_coord = data[current_index : current_index + robotcoordlen]\n",
    "    current_index += robotcoordlen\n",
    "\n",
    "    robot_y_coord = data[current_index : current_index + robotcoordlen]\n",
    "    current_index += robotcoordlen\n",
    "\n",
    "    robot_angle = data[current_index : current_index + robotanglelen]\n",
    "    current_index += robotanglelen\n",
    "\n",
    "    print(robot_id, robot_x_coord, robot_y_coord, robot_angle)"
   ]
  },
  {
   "cell_type": "code",
   "execution_count": 10,
   "metadata": {},
   "outputs": [
    {
     "name": "stdout",
     "output_type": "stream",
     "text": [
      "Average frequency of execution: -2.9339731563791822e-12 times per second\n"
     ]
    },
    {
     "ename": "KeyboardInterrupt",
     "evalue": "",
     "output_type": "error",
     "traceback": [
      "\u001b[0;31m---------------------------------------------------------------------------\u001b[0m",
      "\u001b[0;31mKeyboardInterrupt\u001b[0m                         Traceback (most recent call last)",
      "Cell \u001b[0;32mIn[10], line 21\u001b[0m\n\u001b[1;32m     18\u001b[0m data \u001b[38;5;241m=\u001b[39m \u001b[38;5;124m'\u001b[39m\u001b[38;5;124m>00000001111111111111111111111111111111111111111111111110\u001b[39m\u001b[38;5;124m'\u001b[39m\n\u001b[1;32m     20\u001b[0m \u001b[38;5;66;03m# print(str(data))\u001b[39;00m\n\u001b[0;32m---> 21\u001b[0m \u001b[43mserial_\u001b[49m\u001b[38;5;241;43m.\u001b[39;49m\u001b[43mwrite\u001b[49m\u001b[43m(\u001b[49m\u001b[38;5;28;43mstr\u001b[39;49m\u001b[43m(\u001b[49m\u001b[43mdata\u001b[49m\u001b[43m)\u001b[49m\u001b[38;5;241;43m.\u001b[39;49m\u001b[43mencode\u001b[49m\u001b[43m(\u001b[49m\u001b[43m)\u001b[49m\u001b[43m)\u001b[49m\n\u001b[1;32m     23\u001b[0m \u001b[38;5;66;03m# # Record the data\u001b[39;00m\n\u001b[1;32m     24\u001b[0m data_dict[number] \u001b[38;5;241m=\u001b[39m {\u001b[38;5;124m\"\u001b[39m\u001b[38;5;124mtime\u001b[39m\u001b[38;5;124m\"\u001b[39m: current_time, \u001b[38;5;124m\"\u001b[39m\u001b[38;5;124mnumber\u001b[39m\u001b[38;5;124m\"\u001b[39m: number}\n",
      "File \u001b[0;32m~/anaconda3/envs/rehab-eng/lib/python3.8/site-packages/serial/serialposix.py:640\u001b[0m, in \u001b[0;36mSerial.write\u001b[0;34m(self, data)\u001b[0m\n\u001b[1;32m    638\u001b[0m \u001b[38;5;28;01massert\u001b[39;00m timeout\u001b[38;5;241m.\u001b[39mtime_left() \u001b[38;5;129;01mis\u001b[39;00m \u001b[38;5;28;01mNone\u001b[39;00m\n\u001b[1;32m    639\u001b[0m \u001b[38;5;66;03m# wait for write operation\u001b[39;00m\n\u001b[0;32m--> 640\u001b[0m abort, ready, _ \u001b[38;5;241m=\u001b[39m \u001b[43mselect\u001b[49m\u001b[38;5;241;43m.\u001b[39;49m\u001b[43mselect\u001b[49m\u001b[43m(\u001b[49m\u001b[43m[\u001b[49m\u001b[38;5;28;43mself\u001b[39;49m\u001b[38;5;241;43m.\u001b[39;49m\u001b[43mpipe_abort_write_r\u001b[49m\u001b[43m]\u001b[49m\u001b[43m,\u001b[49m\u001b[43m \u001b[49m\u001b[43m[\u001b[49m\u001b[38;5;28;43mself\u001b[39;49m\u001b[38;5;241;43m.\u001b[39;49m\u001b[43mfd\u001b[49m\u001b[43m]\u001b[49m\u001b[43m,\u001b[49m\u001b[43m \u001b[49m\u001b[43m[\u001b[49m\u001b[43m]\u001b[49m\u001b[43m,\u001b[49m\u001b[43m \u001b[49m\u001b[38;5;28;43;01mNone\u001b[39;49;00m\u001b[43m)\u001b[49m\n\u001b[1;32m    641\u001b[0m \u001b[38;5;28;01mif\u001b[39;00m abort:\n\u001b[1;32m    642\u001b[0m     os\u001b[38;5;241m.\u001b[39mread(\u001b[38;5;28mself\u001b[39m\u001b[38;5;241m.\u001b[39mpipe_abort_write_r, \u001b[38;5;241m1\u001b[39m)\n",
      "\u001b[0;31mKeyboardInterrupt\u001b[0m: "
     ]
    }
   ],
   "source": [
    "# SERIAL DUMPING\n",
    "\n",
    "serial_ = serial.Serial(xbee_port, 115200)\n",
    "\n",
    "start_time = round(time.time() * 1000)\n",
    "\n",
    "data_dict = {}\n",
    "number = 0\n",
    "\n",
    "try:\n",
    "    while True:\n",
    "        if number == 10:\n",
    "            number = 0\n",
    "\n",
    "        current_time = round(time.time() * 1000)\n",
    "\n",
    "        data = \">00000001111111111111111111111111111111111111111111111110\"\n",
    "\n",
    "        # print(str(data))\n",
    "        serial_.write(str(data).encode())\n",
    "\n",
    "        # # Record the data\n",
    "        data_dict[number] = {\"time\": current_time, \"number\": number}\n",
    "\n",
    "        number += 1\n",
    "\n",
    "except Exception as e:\n",
    "    print(f\"An error occurred: {e}\")\n",
    "\n",
    "finally:\n",
    "    # Calculate and print the average frequency of execution\n",
    "    execution_time = time.time() - start_time\n",
    "    frequency = number / execution_time\n",
    "    print(f\"Average frequency of execution: {frequency} times per second\")\n",
    "\n",
    "    # Close the serial port\n",
    "    serial_.close()"
   ]
  },
  {
   "cell_type": "code",
   "execution_count": 2,
   "metadata": {},
   "outputs": [
    {
     "data": {
      "text/plain": [
       "'111111111111111111111111111111111111111111111111111111111111111111111111111111111111111111111111111111111111111111222222222222222222222222222222222222222222222222222222222222222222222222222222222222222222222222222222222222222222333333333333333333333333333333333333333333333333333333333333333333333333333333333333333333333333333333333333333333444444444444444444444444444444444444444444444444444444444444444444444444444444444444444444444444444444444444444444555555555555555555555555555555555555555555555555555555555555555555555555555555555555555555555555555555555555555555666666666666666666666666666666666666666666666666666666666666666666666666666666666666666666666666666666666666666666777777777777777777777777777777777777777777777777777777777777777777777777777777777777777777777777777777777777777777888888888888888888888888888888888888888888888888888888888888888888888888888888888888888888888888888888888888888888999999999999999999999999999999999999999999999999999999999999999999999999999999999999999999999999999999999999999999000000000000000000000000000000000000000000000000000000000000000000000000000000000000000000000000000000000000000000'"
      ]
     },
     "execution_count": 2,
     "metadata": {},
     "output_type": "execute_result"
    }
   ],
   "source": [
    "data = '>0000000111111111111111111111111111111111111111111111111'\n",
    "data = \n"
   ]
  },
  {
   "cell_type": "code",
   "execution_count": 4,
   "metadata": {},
   "outputs": [
    {
     "ename": "InvalidOperatingModeException",
     "evalue": "Unsupported operating mode: AT mode (0)",
     "output_type": "error",
     "traceback": [
      "\u001b[0;31m---------------------------------------------------------------------------\u001b[0m",
      "\u001b[0;31mInvalidOperatingModeException\u001b[0m             Traceback (most recent call last)",
      "Cell \u001b[0;32mIn[4], line 3\u001b[0m\n\u001b[1;32m      1\u001b[0m device \u001b[38;5;241m=\u001b[39m XBeeDevice(xbee_port, \u001b[38;5;241m115200\u001b[39m)\n\u001b[1;32m      2\u001b[0m packet \u001b[38;5;241m=\u001b[39m \u001b[38;5;124m\"\u001b[39m\u001b[38;5;124m10\u001b[39m\u001b[38;5;124m\"\u001b[39m\n\u001b[0;32m----> 3\u001b[0m \u001b[43mdevice\u001b[49m\u001b[38;5;241;43m.\u001b[39;49m\u001b[43mopen\u001b[49m\u001b[43m(\u001b[49m\u001b[43m)\u001b[49m\n\u001b[1;32m      4\u001b[0m device\u001b[38;5;241m.\u001b[39msend_data_broadcast(packet)\n\u001b[1;32m      5\u001b[0m device\u001b[38;5;241m.\u001b[39mclose()\n",
      "File \u001b[0;32m~/anaconda3/envs/rehab-eng/lib/python3.8/site-packages/digi/xbee/devices.py:2493\u001b[0m, in \u001b[0;36mXBeeDevice.open\u001b[0;34m(self, force_settings)\u001b[0m\n\u001b[1;32m   2491\u001b[0m \u001b[38;5;28;01mexcept\u001b[39;00m XBeeException \u001b[38;5;28;01mas\u001b[39;00m exc:\n\u001b[1;32m   2492\u001b[0m     \u001b[38;5;28;01mif\u001b[39;00m \u001b[38;5;129;01mnot\u001b[39;00m force_settings:\n\u001b[0;32m-> 2493\u001b[0m         \u001b[38;5;28;01mraise\u001b[39;00m exc\n\u001b[1;32m   2494\u001b[0m     \u001b[38;5;28mself\u001b[39m\u001b[38;5;241m.\u001b[39mlog\u001b[38;5;241m.\u001b[39mdebug(\u001b[38;5;124m\"\u001b[39m\u001b[38;5;124mCould not open the port with default setting, \u001b[39m\u001b[38;5;124m\"\u001b[39m\n\u001b[1;32m   2495\u001b[0m                    \u001b[38;5;124m\"\u001b[39m\u001b[38;5;124mforcing settings using recovery: \u001b[39m\u001b[38;5;132;01m%s\u001b[39;00m\u001b[38;5;124m\"\u001b[39m, \u001b[38;5;28mstr\u001b[39m(exc))\n\u001b[1;32m   2496\u001b[0m     \u001b[38;5;28;01mif\u001b[39;00m \u001b[38;5;28mself\u001b[39m\u001b[38;5;241m.\u001b[39m_serial_port \u001b[38;5;129;01mis\u001b[39;00m \u001b[38;5;28;01mNone\u001b[39;00m:\n",
      "File \u001b[0;32m~/anaconda3/envs/rehab-eng/lib/python3.8/site-packages/digi/xbee/devices.py:2490\u001b[0m, in \u001b[0;36mXBeeDevice.open\u001b[0;34m(self, force_settings)\u001b[0m\n\u001b[1;32m   2487\u001b[0m \u001b[38;5;28mself\u001b[39m\u001b[38;5;241m.\u001b[39m_restart_packet_listener()\n\u001b[1;32m   2489\u001b[0m \u001b[38;5;28;01mtry\u001b[39;00m:\n\u001b[0;32m-> 2490\u001b[0m     \u001b[38;5;28;43mself\u001b[39;49m\u001b[38;5;241;43m.\u001b[39;49m\u001b[43m_do_open\u001b[49m\u001b[43m(\u001b[49m\u001b[43m)\u001b[49m\n\u001b[1;32m   2491\u001b[0m \u001b[38;5;28;01mexcept\u001b[39;00m XBeeException \u001b[38;5;28;01mas\u001b[39;00m exc:\n\u001b[1;32m   2492\u001b[0m     \u001b[38;5;28;01mif\u001b[39;00m \u001b[38;5;129;01mnot\u001b[39;00m force_settings:\n",
      "File \u001b[0;32m~/anaconda3/envs/rehab-eng/lib/python3.8/site-packages/digi/xbee/devices.py:2536\u001b[0m, in \u001b[0;36mXBeeDevice._do_open\u001b[0;34m(self)\u001b[0m\n\u001b[1;32m   2533\u001b[0m \u001b[38;5;28;01mif\u001b[39;00m \u001b[38;5;28mself\u001b[39m\u001b[38;5;241m.\u001b[39m_operating_mode \u001b[38;5;129;01mnot\u001b[39;00m \u001b[38;5;129;01min\u001b[39;00m (OperatingMode\u001b[38;5;241m.\u001b[39mAPI_MODE,\n\u001b[1;32m   2534\u001b[0m                                 OperatingMode\u001b[38;5;241m.\u001b[39mESCAPED_API_MODE):\n\u001b[1;32m   2535\u001b[0m     \u001b[38;5;28mself\u001b[39m\u001b[38;5;241m.\u001b[39mclose()\n\u001b[0;32m-> 2536\u001b[0m     \u001b[38;5;28;01mraise\u001b[39;00m InvalidOperatingModeException(op_mode\u001b[38;5;241m=\u001b[39m\u001b[38;5;28mself\u001b[39m\u001b[38;5;241m.\u001b[39m_operating_mode)\n\u001b[1;32m   2538\u001b[0m \u001b[38;5;66;03m# Read the device info (obtain its parameters and protocol).\u001b[39;00m\n\u001b[1;32m   2539\u001b[0m \u001b[38;5;28mself\u001b[39m\u001b[38;5;241m.\u001b[39mread_device_info()\n",
      "\u001b[0;31mInvalidOperatingModeException\u001b[0m: Unsupported operating mode: AT mode (0)"
     ]
    }
   ],
   "source": [
    "device = XBeeDevice(xbee_port, 115200)\n",
    "packet = \"10\"\n",
    "device.open()\n",
    "device.send_data_broadcast(packet)\n",
    "device.close()"
   ]
  },
  {
   "cell_type": "code",
   "execution_count": 38,
   "metadata": {},
   "outputs": [],
   "source": [
    "data = \">12345,1,AA,10.5,20.6,30.7,AB,40.8,50.9,60.0,BA,70.1,80.2,90.3,BB,100.4,110.5,120.6\"\n",
    "data1 = \">12345,1,AA,10.5,20.6,30.7,AB,40.8,50.9,60.0,BA,70.1,80\"\n",
    "data2 = \".2,90.3,BB,100.4,110.5,120.6>12345,1,AA,10.5,20.6,30.7,\""
   ]
  },
  {
   "cell_type": "code",
   "execution_count": 49,
   "metadata": {},
   "outputs": [
    {
     "name": "stdout",
     "output_type": "stream",
     "text": [
      "{'time': '12345', 'matchbit': '1', 'AA': '10.5,20.6,30.7', 'AB': '40.8,50.9,60.0', 'BA': '70.1,80.2,90.3', 'BB': '100.4,110.5,120.6'}\n"
     ]
    }
   ],
   "source": [
    "def parse_string(data_str):\n",
    "    parts = data_str.split(\",\")\n",
    "\n",
    "    data = {\n",
    "        \"time\": parts[0][1:],\n",
    "        \"matchbit\": parts[1],\n",
    "        parts[2]: str(parts[3]) + \",\" + str(parts[4]) + \",\" + str(parts[5]),\n",
    "        parts[6]: str(parts[7]) + \",\" + str(parts[8]) + \",\" + str(parts[9]),\n",
    "        parts[10]: str(parts[11]) + \",\" + str(parts[12]) + \",\" + str(parts[13]),\n",
    "        parts[14]: str(parts[15]) + \",\" + str(parts[16]) + \",\" + str(parts[17]),\n",
    "    }\n",
    "\n",
    "    return data\n",
    "\n",
    "\n",
    "start = data1.find(\">\")\n",
    "end = data1.find(\">\", start + 1)\n",
    "\n",
    "if end != -1:\n",
    "    string = data1[start + 1 : end]\n",
    "\n",
    "else:\n",
    "    start2 = data2.find(\">\")\n",
    "    string = data1[start + 1 :] + data2[0:start2]\n",
    "\n",
    "# Parse the string\n",
    "parsed_data = parse_string(data)\n",
    "print(parsed_data)"
   ]
  },
  {
   "cell_type": "code",
   "execution_count": 304,
   "metadata": {},
   "outputs": [
    {
     "name": "stdout",
     "output_type": "stream",
     "text": [
      "473740 41 13 212\n"
     ]
    }
   ],
   "source": [
    "start_time = 1705466473.2120728\n",
    "\n",
    "# Extract hours, minutes, seconds, and milliseconds\n",
    "hours = int(start_time // 3600)\n",
    "minutes = int((start_time % 3600) // 60)\n",
    "seconds = int(start_time % 60)\n",
    "millis = int((start_time - int(start_time)) * 1000)\n",
    "\n",
    "print(hours, minutes, seconds, millis)"
   ]
  }
 ],
 "metadata": {
  "kernelspec": {
   "display_name": "rehab-eng",
   "language": "python",
   "name": "python3"
  },
  "language_info": {
   "codemirror_mode": {
    "name": "ipython",
    "version": 3
   },
   "file_extension": ".py",
   "mimetype": "text/x-python",
   "name": "python",
   "nbconvert_exporter": "python",
   "pygments_lexer": "ipython3",
   "version": "3.8.18"
  }
 },
 "nbformat": 4,
 "nbformat_minor": 2
}

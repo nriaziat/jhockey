{
 "cells": [
  {
   "cell_type": "code",
   "execution_count": 10,
   "metadata": {},
   "outputs": [
    {
     "name": "stdout",
     "output_type": "stream",
     "text": [
      "/dev/cu.Bluetooth-Incoming-Port: n/a [n/a]\n",
      "/dev/cu.usbserial-D30DP79J: FT231X USB UART [USB VID:PID=0403:6015 SER=D30DP79J LOCATION=1-1]\n",
      "\n",
      "Chosen Port: /dev/cu.usbserial-D30DP79J\n"
     ]
    }
   ],
   "source": [
    "import serial.tools.list_ports\n",
    "import random\n",
    "import time\n",
    "\n",
    "ports = serial.tools.list_ports.comports()\n",
    "\n",
    "for port, desc, hwid in sorted(ports):\n",
    "    print(\"{}: {} [{}]\".format(port, desc, hwid))\n",
    "    if \"D30DP79J\" in hwid:\n",
    "        xbee_port = port\n",
    "        print(\"\\nChosen Port:\", xbee_port)"
   ]
  },
  {
   "cell_type": "code",
   "execution_count": 270,
   "metadata": {},
   "outputs": [
    {
     "data": {
      "text/plain": [
       "{'AB': '322343,322343,322343',\n",
       " 'AA': '322343,322343,322343',\n",
       " 'BA': '322343,322343,322343',\n",
       " 'BB': '322343,322343,322343',\n",
       " 'match': 1,\n",
       " 'time': 2420768}"
      ]
     },
     "execution_count": 270,
     "metadata": {},
     "output_type": "execute_result"
    }
   ],
   "source": [
    "start_time = round(time.time() * 1000)\n",
    "\n",
    "data = {\n",
    "    \"AB\": str(number) + \",\" + str(number) + \",\" + str(number),\n",
    "    \"AA\": str(number) + \",\" + str(number) + \",\" + str(number),\n",
    "    \"BA\": str(number) + \",\" + str(number) + \",\" + str(number),\n",
    "    \"BB\": str(number) + \",\" + str(number) + \",\" + str(number),\n",
    "    \"match\": 1,\n",
    "    \"time\": round(time.time() * 1000) - start_time,\n",
    "}\n",
    "\n",
    "data"
   ]
  },
  {
   "cell_type": "code",
   "execution_count": 23,
   "metadata": {},
   "outputs": [
    {
     "name": "stdout",
     "output_type": "stream",
     "text": [
      "Average frequency of execution: -5.997725984187388e-10 times per second\n"
     ]
    },
    {
     "ename": "KeyboardInterrupt",
     "evalue": "",
     "output_type": "error",
     "traceback": [
      "\u001b[0;31m---------------------------------------------------------------------------\u001b[0m",
      "\u001b[0;31mKeyboardInterrupt\u001b[0m                         Traceback (most recent call last)",
      "Cell \u001b[0;32mIn[23], line 33\u001b[0m\n\u001b[1;32m     30\u001b[0m         number \u001b[38;5;241m+\u001b[39m\u001b[38;5;241m=\u001b[39m \u001b[38;5;241m1\u001b[39m\n\u001b[1;32m     32\u001b[0m         \u001b[38;5;66;03m# # Wait to maintain 50Hz frequency\u001b[39;00m\n\u001b[0;32m---> 33\u001b[0m         \u001b[43mtime\u001b[49m\u001b[38;5;241;43m.\u001b[39;49m\u001b[43msleep\u001b[49m\u001b[43m(\u001b[49m\u001b[38;5;241;43m0.02\u001b[39;49m\u001b[43m \u001b[49m\u001b[38;5;241;43m-\u001b[39;49m\u001b[43m \u001b[49m\u001b[43m(\u001b[49m\u001b[43mtime\u001b[49m\u001b[38;5;241;43m.\u001b[39;49m\u001b[43mtime\u001b[49m\u001b[43m(\u001b[49m\u001b[43m)\u001b[49m\u001b[43m \u001b[49m\u001b[38;5;241;43m-\u001b[39;49m\u001b[43m \u001b[49m\u001b[43mcurrent_time\u001b[49m\u001b[43m)\u001b[49m\u001b[43m)\u001b[49m\n\u001b[1;32m     35\u001b[0m \u001b[38;5;28;01mexcept\u001b[39;00m \u001b[38;5;167;01mException\u001b[39;00m \u001b[38;5;28;01mas\u001b[39;00m e:\n\u001b[1;32m     36\u001b[0m     \u001b[38;5;28mprint\u001b[39m(\u001b[38;5;124mf\u001b[39m\u001b[38;5;124m\"\u001b[39m\u001b[38;5;124mAn error occurred: \u001b[39m\u001b[38;5;132;01m{\u001b[39;00me\u001b[38;5;132;01m}\u001b[39;00m\u001b[38;5;124m\"\u001b[39m)\n",
      "\u001b[0;31mKeyboardInterrupt\u001b[0m: "
     ]
    }
   ],
   "source": [
    "# Initialize serial communication\n",
    "serial_ = serial.Serial(xbee_port, 115200)\n",
    "\n",
    "start_time = round(time.time() * 1000)\n",
    "\n",
    "data_dict = {}\n",
    "number = 900\n",
    "\n",
    "try:\n",
    "    while True:\n",
    "        current_time = time.time()\n",
    "\n",
    "        data = {\n",
    "            \"AB\": str(number) + \",\" + str(number) + \",\" + str(number),\n",
    "            \"AA\": str(number) + \",\" + str(number) + \",\" + str(number),\n",
    "            \"BA\": str(number) + \",\" + str(number) + \",\" + str(number),\n",
    "            \"BB\": str(number) + \",\" + str(number) + \",\" + str(number),\n",
    "            \"match\": 1,\n",
    "            \"time\": round(time.time() * 1000) - start_time,\n",
    "        }\n",
    "\n",
    "        # Write the message to the serial port\n",
    "\n",
    "        # print(str(data))\n",
    "        serial_.write(str(data).encode())\n",
    "\n",
    "        # # Record the data\n",
    "        data_dict[number] = {\"time\": current_time, \"number\": number}\n",
    "\n",
    "        number += 1\n",
    "\n",
    "        # # Wait to maintain 50Hz frequency\n",
    "        time.sleep(0.02 - (time.time() - current_time))\n",
    "\n",
    "except Exception as e:\n",
    "    print(f\"An error occurred: {e}\")\n",
    "finally:\n",
    "    # Calculate and print the average frequency of execution\n",
    "    execution_time = time.time() - start_time\n",
    "    frequency = number / execution_time\n",
    "    print(f\"Average frequency of execution: {frequency} times per second\")\n",
    "\n",
    "    # Close the serial port\n",
    "    serial_.close()"
   ]
  },
  {
   "cell_type": "code",
   "execution_count": 13,
   "metadata": {},
   "outputs": [
    {
     "data": {
      "text/plain": [
       "{'AB': '86,86,86',\n",
       " 'AA': '86,86,86',\n",
       " 'BA': '86,86,86',\n",
       " 'BB': '86,86,86',\n",
       " 'match': 1,\n",
       " 'time': 2103}"
      ]
     },
     "execution_count": 13,
     "metadata": {},
     "output_type": "execute_result"
    }
   ],
   "source": [
    "data"
   ]
  },
  {
   "cell_type": "code",
   "execution_count": 5,
   "metadata": {},
   "outputs": [],
   "source": [
    "import time\n",
    "\n",
    "number = 24343\n",
    "start_time = round(time.time() * 1000)\n",
    "\n",
    "data = {\n",
    "    \"AB\": str(number) + \",\" + str(number) + \",\" + str(number),\n",
    "    \"AA\": str(number) + \",\" + str(number) + \",\" + str(number),\n",
    "    \"BA\": str(number) + \",\" + str(number) + \",\" + str(number),\n",
    "    \"BB\": str(number) + \",\" + str(number) + \",\" + str(number),\n",
    "    \"match\": 1,\n",
    "    \"time\": round(time.time() * 1000) - start_time,\n",
    "}"
   ]
  },
  {
   "cell_type": "code",
   "execution_count": 16,
   "metadata": {},
   "outputs": [
    {
     "data": {
      "text/plain": [
       "\"{'AB': '86,86,86', 'AA': '86,86,86', 'BA': '86,86,86', 'BB': '86,86,86', 'match': 1, 'time': 2103}\""
      ]
     },
     "execution_count": 16,
     "metadata": {},
     "output_type": "execute_result"
    }
   ],
   "source": [
    "str(data)"
   ]
  },
  {
   "cell_type": "code",
   "execution_count": 14,
   "metadata": {},
   "outputs": [
    {
     "name": "stdout",
     "output_type": "stream",
     "text": [
      "{'AB': '86,86,86', 'AA': '86,86,86', 'BA': '86,86,86', 'BB': '86,86,86', 'match': '1', 'time': '2103'}\n"
     ]
    }
   ],
   "source": [
    "rec = str(data)\n",
    "\n",
    "# parse rec to a dictionary\n",
    "rec = rec[1:-1]\n",
    "\n",
    "rec = rec.replace(\"'\", \"\")\n",
    "rec = rec.split(\", \")\n",
    "rec = [x.split(\": \") for x in rec]\n",
    "rec = {x[0]: x[1] for x in rec}\n",
    "\n",
    "print(rec)"
   ]
  },
  {
   "cell_type": "code",
   "execution_count": 304,
   "metadata": {},
   "outputs": [
    {
     "name": "stdout",
     "output_type": "stream",
     "text": [
      "473740 41 13 212\n"
     ]
    }
   ],
   "source": [
    "start_time = 1705466473.2120728\n",
    "\n",
    "# Extract hours, minutes, seconds, and milliseconds\n",
    "hours = int(start_time // 3600)\n",
    "minutes = int((start_time % 3600) // 60)\n",
    "seconds = int(start_time % 60)\n",
    "millis = int((start_time - int(start_time)) * 1000)\n",
    "\n",
    "print(hours, minutes, seconds, millis)"
   ]
  }
 ],
 "metadata": {
  "kernelspec": {
   "display_name": "rehab-eng",
   "language": "python",
   "name": "python3"
  },
  "language_info": {
   "codemirror_mode": {
    "name": "ipython",
    "version": 3
   },
   "file_extension": ".py",
   "mimetype": "text/x-python",
   "name": "python",
   "nbconvert_exporter": "python",
   "pygments_lexer": "ipython3",
   "version": "3.8.18"
  }
 },
 "nbformat": 4,
 "nbformat_minor": 2
}

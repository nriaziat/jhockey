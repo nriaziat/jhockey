{
 "cells": [
  {
   "cell_type": "code",
   "execution_count": 1,
   "metadata": {},
   "outputs": [
    {
     "name": "stdout",
     "output_type": "stream",
     "text": [
      "xbee_port: /dev/cu.usbserial-D30DP79J\n"
     ]
    }
   ],
   "source": [
    "import serial.tools.list_ports\n",
    "import random\n",
    "import time\n",
    "from digi.xbee.devices import XBeeDevice\n",
    "\n",
    "ports = serial.tools.list_ports.comports()\n",
    "\n",
    "for port, desc, hwid in sorted(ports):\n",
    "    if \"D30DP79J\" in hwid:\n",
    "        xbee_port = port\n",
    "        print(\"xbee_port:\", xbee_port)"
   ]
  },
  {
   "cell_type": "code",
   "execution_count": 2,
   "metadata": {},
   "outputs": [
    {
     "name": "stdout",
     "output_type": "stream",
     "text": [
      "106\n"
     ]
    }
   ],
   "source": [
    "device = XBeeDevice(xbee_port, 115200)\n",
    "packet = \">88881AA111222090AB333444100BA333444100BB111222090BB111222090BB111222090BB111222090BB111222090BB111222090;\"\n",
    "print(len(packet))\n",
    "device.open()\n",
    "device.send_data_broadcast(packet)\n",
    "device.close()"
   ]
  },
  {
   "cell_type": "code",
   "execution_count": 4,
   "metadata": {},
   "outputs": [
    {
     "data": {
      "text/plain": [
       "'>88881AA111222090AB333444100BA333444100BB111222090;'"
      ]
     },
     "execution_count": 4,
     "metadata": {},
     "output_type": "execute_result"
    }
   ],
   "source": [
    "packet[packet.find(\">\") : packet.find(\";\") + 1]"
   ]
  },
  {
   "cell_type": "code",
   "execution_count": 23,
   "metadata": {},
   "outputs": [],
   "source": [
    "start_time = round(time.time() * 1000)"
   ]
  },
  {
   "cell_type": "code",
   "execution_count": 24,
   "metadata": {},
   "outputs": [],
   "source": [
    "current_time = round(time.time() * 1000)"
   ]
  },
  {
   "cell_type": "code",
   "execution_count": 25,
   "metadata": {},
   "outputs": [
    {
     "data": {
      "text/plain": [
       "11218"
      ]
     },
     "execution_count": 25,
     "metadata": {},
     "output_type": "execute_result"
    }
   ],
   "source": [
    "round(current_time - start_time, 4)"
   ]
  },
  {
   "cell_type": "code",
   "execution_count": 2,
   "metadata": {},
   "outputs": [
    {
     "ename": "KeyboardInterrupt",
     "evalue": "",
     "output_type": "error",
     "traceback": [
      "\u001b[0;31m---------------------------------------------------------------------------\u001b[0m",
      "\u001b[0;31mKeyboardInterrupt\u001b[0m                         Traceback (most recent call last)",
      "Cell \u001b[0;32mIn[2], line 19\u001b[0m\n\u001b[1;32m     16\u001b[0m     data \u001b[38;5;241m=\u001b[39m \u001b[38;5;124m\"\u001b[39m\u001b[38;5;124m>88881AA111222090AB333444100BA333444100BB111222090BB111222090BB111222090BB111222090BB111222090BB111222090;\u001b[39m\u001b[38;5;124m\"\u001b[39m\n\u001b[1;32m     18\u001b[0m     \u001b[38;5;66;03m# print(str(data))\u001b[39;00m\n\u001b[0;32m---> 19\u001b[0m     \u001b[43mdevice\u001b[49m\u001b[38;5;241;43m.\u001b[39;49m\u001b[43msend_data_broadcast\u001b[49m\u001b[43m(\u001b[49m\u001b[43mdata\u001b[49m\u001b[43m)\u001b[49m\n\u001b[1;32m     21\u001b[0m     \u001b[38;5;66;03m# # Record the data\u001b[39;00m\n\u001b[1;32m     22\u001b[0m     \u001b[38;5;66;03m# data_dict[number] = {\"time\": current_time, \"number\": number}\u001b[39;00m\n\u001b[1;32m     23\u001b[0m \n\u001b[0;32m   (...)\u001b[0m\n\u001b[1;32m     28\u001b[0m \n\u001b[1;32m     29\u001b[0m \u001b[38;5;66;03m# except:\u001b[39;00m\n",
      "File \u001b[0;32m~/anaconda3/envs/rehab-eng/lib/python3.8/site-packages/digi/xbee/devices.py:3051\u001b[0m, in \u001b[0;36mXBeeDevice.send_data_broadcast\u001b[0;34m(self, data, transmit_options)\u001b[0m\n\u001b[1;32m   3026\u001b[0m \u001b[38;5;28;01mdef\u001b[39;00m \u001b[38;5;21msend_data_broadcast\u001b[39m(\u001b[38;5;28mself\u001b[39m, data, transmit_options\u001b[38;5;241m=\u001b[39mTransmitOptions\u001b[38;5;241m.\u001b[39mNONE\u001b[38;5;241m.\u001b[39mvalue):\n\u001b[1;32m   3027\u001b[0m \u001b[38;5;250m    \u001b[39m\u001b[38;5;124;03m\"\"\"\u001b[39;00m\n\u001b[1;32m   3028\u001b[0m \u001b[38;5;124;03m    Sends the provided data to all the XBee nodes of the network (broadcast).\u001b[39;00m\n\u001b[1;32m   3029\u001b[0m \n\u001b[0;32m   (...)\u001b[0m\n\u001b[1;32m   3049\u001b[0m \u001b[38;5;124;03m        XBeeException: If the XBee's communication interface is closed.\u001b[39;00m\n\u001b[1;32m   3050\u001b[0m \u001b[38;5;124;03m    \"\"\"\u001b[39;00m\n\u001b[0;32m-> 3051\u001b[0m     \u001b[38;5;28;01mreturn\u001b[39;00m \u001b[38;5;28;43mself\u001b[39;49m\u001b[38;5;241;43m.\u001b[39;49m\u001b[43m_send_data_64\u001b[49m\u001b[43m(\u001b[49m\u001b[43mXBee64BitAddress\u001b[49m\u001b[38;5;241;43m.\u001b[39;49m\u001b[43mBROADCAST_ADDRESS\u001b[49m\u001b[43m,\u001b[49m\u001b[43m \u001b[49m\u001b[43mdata\u001b[49m\u001b[43m,\u001b[49m\n\u001b[1;32m   3052\u001b[0m \u001b[43m                              \u001b[49m\u001b[43mtransmit_options\u001b[49m\u001b[38;5;241;43m=\u001b[39;49m\u001b[43mtransmit_options\u001b[49m\u001b[43m)\u001b[49m\n",
      "File \u001b[0;32m~/anaconda3/envs/rehab-eng/lib/python3.8/site-packages/digi/xbee/devices.py:2052\u001b[0m, in \u001b[0;36mAbstractXBeeDevice._before_send_method.<locals>.dec_function\u001b[0;34m(self, *args, **kwargs)\u001b[0m\n\u001b[1;32m   2049\u001b[0m \u001b[38;5;28;01mif\u001b[39;00m (\u001b[38;5;28mself\u001b[39m\u001b[38;5;241m.\u001b[39m_operating_mode \u001b[38;5;241m!=\u001b[39m OperatingMode\u001b[38;5;241m.\u001b[39mAPI_MODE\n\u001b[1;32m   2050\u001b[0m         \u001b[38;5;129;01mand\u001b[39;00m \u001b[38;5;28mself\u001b[39m\u001b[38;5;241m.\u001b[39m_operating_mode \u001b[38;5;241m!=\u001b[39m OperatingMode\u001b[38;5;241m.\u001b[39mESCAPED_API_MODE):\n\u001b[1;32m   2051\u001b[0m     \u001b[38;5;28;01mraise\u001b[39;00m InvalidOperatingModeException(op_mode\u001b[38;5;241m=\u001b[39m\u001b[38;5;28mself\u001b[39m\u001b[38;5;241m.\u001b[39m_operating_mode)\n\u001b[0;32m-> 2052\u001b[0m \u001b[38;5;28;01mreturn\u001b[39;00m \u001b[43mfunc\u001b[49m\u001b[43m(\u001b[49m\u001b[38;5;28;43mself\u001b[39;49m\u001b[43m,\u001b[49m\u001b[43m \u001b[49m\u001b[38;5;241;43m*\u001b[39;49m\u001b[43margs\u001b[49m\u001b[43m,\u001b[49m\u001b[43m \u001b[49m\u001b[38;5;241;43m*\u001b[39;49m\u001b[38;5;241;43m*\u001b[39;49m\u001b[43mkwargs\u001b[49m\u001b[43m)\u001b[49m\n",
      "File \u001b[0;32m~/anaconda3/envs/rehab-eng/lib/python3.8/site-packages/digi/xbee/devices.py:2063\u001b[0m, in \u001b[0;36mAbstractXBeeDevice._after_send_method.<locals>.dec_function\u001b[0;34m(*args, **kwargs)\u001b[0m\n\u001b[1;32m   2061\u001b[0m \u001b[38;5;129m@wraps\u001b[39m(func)\n\u001b[1;32m   2062\u001b[0m \u001b[38;5;28;01mdef\u001b[39;00m \u001b[38;5;21mdec_function\u001b[39m(\u001b[38;5;241m*\u001b[39margs, \u001b[38;5;241m*\u001b[39m\u001b[38;5;241m*\u001b[39mkwargs):\n\u001b[0;32m-> 2063\u001b[0m     response \u001b[38;5;241m=\u001b[39m \u001b[43mfunc\u001b[49m\u001b[43m(\u001b[49m\u001b[38;5;241;43m*\u001b[39;49m\u001b[43margs\u001b[49m\u001b[43m,\u001b[49m\u001b[43m \u001b[49m\u001b[38;5;241;43m*\u001b[39;49m\u001b[38;5;241;43m*\u001b[39;49m\u001b[43mkwargs\u001b[49m\u001b[43m)\u001b[49m\n\u001b[1;32m   2064\u001b[0m     \u001b[38;5;28;01mif\u001b[39;00m (response\u001b[38;5;241m.\u001b[39mtransmit_status \u001b[38;5;241m!=\u001b[39m TransmitStatus\u001b[38;5;241m.\u001b[39mSUCCESS\n\u001b[1;32m   2065\u001b[0m             \u001b[38;5;129;01mand\u001b[39;00m response\u001b[38;5;241m.\u001b[39mtransmit_status \u001b[38;5;241m!=\u001b[39m TransmitStatus\u001b[38;5;241m.\u001b[39mSELF_ADDRESSED):\n\u001b[1;32m   2066\u001b[0m         \u001b[38;5;28;01mraise\u001b[39;00m TransmitException(transmit_status\u001b[38;5;241m=\u001b[39mresponse\u001b[38;5;241m.\u001b[39mtransmit_status)\n",
      "File \u001b[0;32m~/anaconda3/envs/rehab-eng/lib/python3.8/site-packages/digi/xbee/devices.py:2729\u001b[0m, in \u001b[0;36mXBeeDevice._send_data_64\u001b[0;34m(self, x64addr, data, transmit_options)\u001b[0m\n\u001b[1;32m   2725\u001b[0m \u001b[38;5;28;01melse\u001b[39;00m:\n\u001b[1;32m   2726\u001b[0m     packet \u001b[38;5;241m=\u001b[39m TransmitPacket(\u001b[38;5;28mself\u001b[39m\u001b[38;5;241m.\u001b[39mget_next_frame_id(), x64addr,\n\u001b[1;32m   2727\u001b[0m                             XBee16BitAddress\u001b[38;5;241m.\u001b[39mUNKNOWN_ADDRESS, \u001b[38;5;241m0\u001b[39m,\n\u001b[1;32m   2728\u001b[0m                             transmit_options, rf_data\u001b[38;5;241m=\u001b[39mdata)\n\u001b[0;32m-> 2729\u001b[0m \u001b[38;5;28;01mreturn\u001b[39;00m \u001b[38;5;28;43mself\u001b[39;49m\u001b[38;5;241;43m.\u001b[39;49m\u001b[43msend_packet_sync_and_get_response\u001b[49m\u001b[43m(\u001b[49m\u001b[43mpacket\u001b[49m\u001b[43m)\u001b[49m\n",
      "File \u001b[0;32m~/anaconda3/envs/rehab-eng/lib/python3.8/site-packages/digi/xbee/devices.py:4032\u001b[0m, in \u001b[0;36mXBeeDevice.send_packet_sync_and_get_response\u001b[0;34m(self, packet_to_send, timeout)\u001b[0m\n\u001b[1;32m   4009\u001b[0m \u001b[38;5;28;01mdef\u001b[39;00m \u001b[38;5;21msend_packet_sync_and_get_response\u001b[39m(\u001b[38;5;28mself\u001b[39m, packet_to_send, timeout\u001b[38;5;241m=\u001b[39m\u001b[38;5;28;01mNone\u001b[39;00m):\n\u001b[1;32m   4010\u001b[0m \u001b[38;5;250m    \u001b[39m\u001b[38;5;124;03m\"\"\"\u001b[39;00m\n\u001b[1;32m   4011\u001b[0m \u001b[38;5;124;03m    Sends the packet and waits for its corresponding response.\u001b[39;00m\n\u001b[1;32m   4012\u001b[0m \n\u001b[0;32m   (...)\u001b[0m\n\u001b[1;32m   4030\u001b[0m \u001b[38;5;124;03m       | :class:`.XBeePacket`\u001b[39;00m\n\u001b[1;32m   4031\u001b[0m \u001b[38;5;124;03m    \"\"\"\u001b[39;00m\n\u001b[0;32m-> 4032\u001b[0m     \u001b[38;5;28;01mreturn\u001b[39;00m \u001b[38;5;28;43mself\u001b[39;49m\u001b[38;5;241;43m.\u001b[39;49m\u001b[43m_send_packet_sync_and_get_response\u001b[49m\u001b[43m(\u001b[49m\u001b[43mpacket_to_send\u001b[49m\u001b[43m,\u001b[49m\u001b[43m \u001b[49m\u001b[43mtimeout\u001b[49m\u001b[38;5;241;43m=\u001b[39;49m\u001b[43mtimeout\u001b[49m\u001b[43m)\u001b[49m\n",
      "File \u001b[0;32m~/anaconda3/envs/rehab-eng/lib/python3.8/site-packages/digi/xbee/devices.py:2148\u001b[0m, in \u001b[0;36mAbstractXBeeDevice._send_packet_sync_and_get_response\u001b[0;34m(self, packet_to_send, timeout)\u001b[0m\n\u001b[1;32m   2144\u001b[0m     \u001b[38;5;28;01mraise\u001b[39;00m XBeeException(\u001b[38;5;124m\"\u001b[39m\u001b[38;5;124mPacket listener is not running.\u001b[39m\u001b[38;5;124m\"\u001b[39m)\n\u001b[1;32m   2146\u001b[0m sender \u001b[38;5;241m=\u001b[39m SyncRequestSender(\u001b[38;5;28mself\u001b[39m, packet_to_send,\n\u001b[1;32m   2147\u001b[0m                            \u001b[38;5;28mself\u001b[39m\u001b[38;5;241m.\u001b[39m_timeout \u001b[38;5;28;01mif\u001b[39;00m timeout \u001b[38;5;129;01mis\u001b[39;00m \u001b[38;5;28;01mNone\u001b[39;00m \u001b[38;5;28;01melse\u001b[39;00m timeout)\n\u001b[0;32m-> 2148\u001b[0m \u001b[38;5;28;01mreturn\u001b[39;00m \u001b[43msender\u001b[49m\u001b[38;5;241;43m.\u001b[39;49m\u001b[43msend\u001b[49m\u001b[43m(\u001b[49m\u001b[43m)\u001b[49m\n",
      "File \u001b[0;32m~/anaconda3/envs/rehab-eng/lib/python3.8/site-packages/digi/xbee/sender.py:390\u001b[0m, in \u001b[0;36mSyncRequestSender.send\u001b[0;34m(self)\u001b[0m\n\u001b[1;32m    388\u001b[0m     \u001b[38;5;28mself\u001b[39m\u001b[38;5;241m.\u001b[39m_lock\u001b[38;5;241m.\u001b[39mwait()\n\u001b[1;32m    389\u001b[0m \u001b[38;5;28;01melse\u001b[39;00m:\n\u001b[0;32m--> 390\u001b[0m     \u001b[38;5;28;43mself\u001b[39;49m\u001b[38;5;241;43m.\u001b[39;49m\u001b[43m_lock\u001b[49m\u001b[38;5;241;43m.\u001b[39;49m\u001b[43mwait\u001b[49m\u001b[43m(\u001b[49m\u001b[38;5;28;43mself\u001b[39;49m\u001b[38;5;241;43m.\u001b[39;49m\u001b[43m_timeout\u001b[49m\u001b[43m)\u001b[49m\n\u001b[1;32m    391\u001b[0m \u001b[38;5;28mself\u001b[39m\u001b[38;5;241m.\u001b[39m_lock\u001b[38;5;241m.\u001b[39mrelease()\n\u001b[1;32m    392\u001b[0m \u001b[38;5;66;03m# After waiting check if we received any response, if not throw a\u001b[39;00m\n\u001b[1;32m    393\u001b[0m \u001b[38;5;66;03m# timeout exception.\u001b[39;00m\n",
      "File \u001b[0;32m~/anaconda3/envs/rehab-eng/lib/python3.8/threading.py:306\u001b[0m, in \u001b[0;36mCondition.wait\u001b[0;34m(self, timeout)\u001b[0m\n\u001b[1;32m    304\u001b[0m \u001b[38;5;28;01melse\u001b[39;00m:\n\u001b[1;32m    305\u001b[0m     \u001b[38;5;28;01mif\u001b[39;00m timeout \u001b[38;5;241m>\u001b[39m \u001b[38;5;241m0\u001b[39m:\n\u001b[0;32m--> 306\u001b[0m         gotit \u001b[38;5;241m=\u001b[39m \u001b[43mwaiter\u001b[49m\u001b[38;5;241;43m.\u001b[39;49m\u001b[43macquire\u001b[49m\u001b[43m(\u001b[49m\u001b[38;5;28;43;01mTrue\u001b[39;49;00m\u001b[43m,\u001b[49m\u001b[43m \u001b[49m\u001b[43mtimeout\u001b[49m\u001b[43m)\u001b[49m\n\u001b[1;32m    307\u001b[0m     \u001b[38;5;28;01melse\u001b[39;00m:\n\u001b[1;32m    308\u001b[0m         gotit \u001b[38;5;241m=\u001b[39m waiter\u001b[38;5;241m.\u001b[39macquire(\u001b[38;5;28;01mFalse\u001b[39;00m)\n",
      "\u001b[0;31mKeyboardInterrupt\u001b[0m: "
     ]
    }
   ],
   "source": [
    "# Xbee Lib\n",
    "\n",
    "device = XBeeDevice(xbee_port, 115200)\n",
    "\n",
    "start_time = round(time.time() * 1000)\n",
    "\n",
    "data_dict = {}\n",
    "number = 900\n",
    "\n",
    "# try:\n",
    "device.open()\n",
    "\n",
    "while True:\n",
    "    # current_time = round(time.time() * 1000)\n",
    "\n",
    "    data = \">88881AA111222090AB333444100BA333444100BB111222090BB111222090BB111222090BB111222090BB111222090BB111222090;\"\n",
    "\n",
    "    # print(str(data))\n",
    "    device.send_data_broadcast(data)\n",
    "\n",
    "    # # Record the data\n",
    "    # data_dict[number] = {\"time\": current_time, \"number\": number}\n",
    "\n",
    "    # number += 1\n",
    "\n",
    "# except Exception as e:\n",
    "#     print(f\"An error occurred: {e}\")\n",
    "\n",
    "# except:"
   ]
  },
  {
   "cell_type": "code",
   "execution_count": null,
   "metadata": {},
   "outputs": [],
   "source": [
    "device.close()"
   ]
  },
  {
   "cell_type": "code",
   "execution_count": 19,
   "metadata": {},
   "outputs": [
    {
     "name": "stdout",
     "output_type": "stream",
     "text": [
      "Average frequency of execution: -9.68213028853439e-10 times per second\n"
     ]
    },
    {
     "ename": "KeyboardInterrupt",
     "evalue": "",
     "output_type": "error",
     "traceback": [
      "\u001b[0;31m---------------------------------------------------------------------------\u001b[0m",
      "\u001b[0;31mKeyboardInterrupt\u001b[0m                         Traceback (most recent call last)",
      "Cell \u001b[0;32mIn[19], line 45\u001b[0m\n\u001b[1;32m     14\u001b[0m data \u001b[38;5;241m=\u001b[39m (\n\u001b[1;32m     15\u001b[0m     \u001b[38;5;124m\"\u001b[39m\u001b[38;5;124m>\u001b[39m\u001b[38;5;124m\"\u001b[39m\n\u001b[1;32m     16\u001b[0m     \u001b[38;5;241m+\u001b[39m \u001b[38;5;28mstr\u001b[39m(current_time \u001b[38;5;241m-\u001b[39m start_time)\n\u001b[0;32m   (...)\u001b[0m\n\u001b[1;32m     41\u001b[0m     \u001b[38;5;241m+\u001b[39m \u001b[38;5;28mstr\u001b[39m(number)\n\u001b[1;32m     42\u001b[0m )\n\u001b[1;32m     44\u001b[0m \u001b[38;5;66;03m# print(str(data))\u001b[39;00m\n\u001b[0;32m---> 45\u001b[0m \u001b[43mserial_\u001b[49m\u001b[38;5;241;43m.\u001b[39;49m\u001b[43mwrite\u001b[49m\u001b[43m(\u001b[49m\u001b[38;5;28;43mstr\u001b[39;49m\u001b[43m(\u001b[49m\u001b[43mdata\u001b[49m\u001b[43m)\u001b[49m\u001b[38;5;241;43m.\u001b[39;49m\u001b[43mencode\u001b[49m\u001b[43m(\u001b[49m\u001b[43m)\u001b[49m\u001b[43m)\u001b[49m\n\u001b[1;32m     47\u001b[0m \u001b[38;5;66;03m# # Record the data\u001b[39;00m\n\u001b[1;32m     48\u001b[0m data_dict[number] \u001b[38;5;241m=\u001b[39m {\u001b[38;5;124m\"\u001b[39m\u001b[38;5;124mtime\u001b[39m\u001b[38;5;124m\"\u001b[39m: current_time, \u001b[38;5;124m\"\u001b[39m\u001b[38;5;124mnumber\u001b[39m\u001b[38;5;124m\"\u001b[39m: number}\n",
      "File \u001b[0;32m~/anaconda3/envs/rehab-eng/lib/python3.8/site-packages/serial/serialposix.py:640\u001b[0m, in \u001b[0;36mSerial.write\u001b[0;34m(self, data)\u001b[0m\n\u001b[1;32m    638\u001b[0m \u001b[38;5;28;01massert\u001b[39;00m timeout\u001b[38;5;241m.\u001b[39mtime_left() \u001b[38;5;129;01mis\u001b[39;00m \u001b[38;5;28;01mNone\u001b[39;00m\n\u001b[1;32m    639\u001b[0m \u001b[38;5;66;03m# wait for write operation\u001b[39;00m\n\u001b[0;32m--> 640\u001b[0m abort, ready, _ \u001b[38;5;241m=\u001b[39m \u001b[43mselect\u001b[49m\u001b[38;5;241;43m.\u001b[39;49m\u001b[43mselect\u001b[49m\u001b[43m(\u001b[49m\u001b[43m[\u001b[49m\u001b[38;5;28;43mself\u001b[39;49m\u001b[38;5;241;43m.\u001b[39;49m\u001b[43mpipe_abort_write_r\u001b[49m\u001b[43m]\u001b[49m\u001b[43m,\u001b[49m\u001b[43m \u001b[49m\u001b[43m[\u001b[49m\u001b[38;5;28;43mself\u001b[39;49m\u001b[38;5;241;43m.\u001b[39;49m\u001b[43mfd\u001b[49m\u001b[43m]\u001b[49m\u001b[43m,\u001b[49m\u001b[43m \u001b[49m\u001b[43m[\u001b[49m\u001b[43m]\u001b[49m\u001b[43m,\u001b[49m\u001b[43m \u001b[49m\u001b[38;5;28;43;01mNone\u001b[39;49;00m\u001b[43m)\u001b[49m\n\u001b[1;32m    641\u001b[0m \u001b[38;5;28;01mif\u001b[39;00m abort:\n\u001b[1;32m    642\u001b[0m     os\u001b[38;5;241m.\u001b[39mread(\u001b[38;5;28mself\u001b[39m\u001b[38;5;241m.\u001b[39mpipe_abort_write_r, \u001b[38;5;241m1\u001b[39m)\n",
      "\u001b[0;31mKeyboardInterrupt\u001b[0m: "
     ]
    }
   ],
   "source": [
    "# SERIAL DUMPING\n",
    "\n",
    "serial_ = serial.Serial(xbee_port, 115200)\n",
    "\n",
    "start_time = round(time.time() * 1000)\n",
    "\n",
    "data_dict = {}\n",
    "number = 0\n",
    "\n",
    "try:\n",
    "    while True:\n",
    "        current_time = round(time.time() * 1000)\n",
    "\n",
    "        data = (\n",
    "            \">\"\n",
    "            + str(current_time - start_time)\n",
    "            + \",1\"\n",
    "            + \",AA,\"\n",
    "            + str(number)\n",
    "            + \",\"\n",
    "            + str(number)\n",
    "            + \",\"\n",
    "            + str(number)\n",
    "            + \",AB,\"\n",
    "            + str(number)\n",
    "            + \",\"\n",
    "            + str(number)\n",
    "            + \",\"\n",
    "            + str(number)\n",
    "            + \",BA,\"\n",
    "            + str(number)\n",
    "            + \",\"\n",
    "            + str(number)\n",
    "            + \",\"\n",
    "            + str(number)\n",
    "            + \",BB,\"\n",
    "            + str(number)\n",
    "            + \",\"\n",
    "            + str(number)\n",
    "            + \",\"\n",
    "            + str(number)\n",
    "        )\n",
    "\n",
    "        # print(str(data))\n",
    "        serial_.write(str(data).encode())\n",
    "\n",
    "        # # Record the data\n",
    "        data_dict[number] = {\"time\": current_time, \"number\": number}\n",
    "\n",
    "        number += 1\n",
    "\n",
    "except Exception as e:\n",
    "    print(f\"An error occurred: {e}\")\n",
    "\n",
    "finally:\n",
    "    # Calculate and print the average frequency of execution\n",
    "    execution_time = time.time() - start_time\n",
    "    frequency = number / execution_time\n",
    "    print(f\"Average frequency of execution: {frequency} times per second\")\n",
    "\n",
    "    # Close the serial port\n",
    "    serial_.close()"
   ]
  },
  {
   "cell_type": "code",
   "execution_count": 75,
   "metadata": {},
   "outputs": [
    {
     "name": "stdout",
     "output_type": "stream",
     "text": [
      "Average frequency of execution: 0.0014684287812041115 times per second\n"
     ]
    },
    {
     "ename": "KeyboardInterrupt",
     "evalue": "",
     "output_type": "error",
     "traceback": [
      "\u001b[0;31m---------------------------------------------------------------------------\u001b[0m",
      "\u001b[0;31mKeyboardInterrupt\u001b[0m                         Traceback (most recent call last)",
      "Cell \u001b[0;32mIn[75], line 27\u001b[0m\n\u001b[1;32m     23\u001b[0m         data_dict[number] \u001b[38;5;241m=\u001b[39m {\u001b[38;5;124m\"\u001b[39m\u001b[38;5;124mtime\u001b[39m\u001b[38;5;124m\"\u001b[39m: current_time, \u001b[38;5;124m\"\u001b[39m\u001b[38;5;124mnumber\u001b[39m\u001b[38;5;124m\"\u001b[39m: number}\n\u001b[1;32m     25\u001b[0m         number \u001b[38;5;241m+\u001b[39m\u001b[38;5;241m=\u001b[39m \u001b[38;5;241m1\u001b[39m\n\u001b[0;32m---> 27\u001b[0m         \u001b[43mtime\u001b[49m\u001b[38;5;241;43m.\u001b[39;49m\u001b[43msleep\u001b[49m\u001b[43m(\u001b[49m\u001b[38;5;241;43m0.02\u001b[39;49m\u001b[43m)\u001b[49m\n\u001b[1;32m     29\u001b[0m \u001b[38;5;28;01mexcept\u001b[39;00m \u001b[38;5;167;01mException\u001b[39;00m \u001b[38;5;28;01mas\u001b[39;00m e:\n\u001b[1;32m     30\u001b[0m     \u001b[38;5;28mprint\u001b[39m(\u001b[38;5;124mf\u001b[39m\u001b[38;5;124m\"\u001b[39m\u001b[38;5;124mAn error occurred: \u001b[39m\u001b[38;5;132;01m{\u001b[39;00me\u001b[38;5;132;01m}\u001b[39;00m\u001b[38;5;124m\"\u001b[39m)\n",
      "\u001b[0;31mKeyboardInterrupt\u001b[0m: "
     ]
    }
   ],
   "source": [
    "# SERIAL DUMPING\n",
    "\n",
    "serial_ = serial.Serial(xbee_port, 115200)\n",
    "\n",
    "start_time = round(time.time() * 1000)\n",
    "\n",
    "data_dict = {}\n",
    "number = 0\n",
    "\n",
    "try:\n",
    "    while True:\n",
    "        if number == 10:\n",
    "            number = 0\n",
    "\n",
    "        current_time = round(time.time() * 1000)\n",
    "\n",
    "        data = \">1111112AA1111222233AB1111222233BA1111222233BB1111222233>\"\n",
    "\n",
    "        # print(str(data))\n",
    "        serial_.write(str(data).encode())\n",
    "\n",
    "        # # Record the data\n",
    "        data_dict[number] = {\"time\": current_time, \"number\": number}\n",
    "\n",
    "        number += 1\n",
    "\n",
    "        time.sleep(0.02)\n",
    "\n",
    "except Exception as e:\n",
    "    print(f\"An error occurred: {e}\")\n",
    "\n",
    "finally:\n",
    "    # Calculate and print the average frequency of execution\n",
    "    execution_time = round(time.time() * 1000) - start_time\n",
    "    frequency = number / execution_time\n",
    "    print(f\"Average frequency of execution: {frequency} times per second\")\n",
    "\n",
    "    # Close the serial port\n",
    "    serial_.close()"
   ]
  },
  {
   "cell_type": "markdown",
   "metadata": {},
   "source": [
    "## Data Library\n"
   ]
  },
  {
   "cell_type": "code",
   "execution_count": 51,
   "metadata": {},
   "outputs": [
    {
     "name": "stdout",
     "output_type": "stream",
     "text": [
      "{'start': '>', 'time': '8888', 'matchbit': '1', 'AA': '111,222,090', 'AB': '333,444,100', 'BA': '333,444,100', 'BB': '111,222,090'}\n"
     ]
    }
   ],
   "source": [
    "data = \">88881AA111222090AB333444100BA333444100BB111222090;\"\n",
    "\n",
    "\n",
    "def parse_string(data):\n",
    "    startLen = 1\n",
    "    timeLen = 4\n",
    "    robotIDLen = 2\n",
    "    coordLen = 3\n",
    "    angleLen = 3\n",
    "\n",
    "    parsedData = {}\n",
    "\n",
    "    parsedData[\"start\"] = data[0:startLen]\n",
    "    parsedData[\"time\"] = data[startLen : startLen + timeLen]\n",
    "    parsedData[\"matchbit\"] = data[startLen + timeLen]\n",
    "\n",
    "    i = startLen + timeLen + 1\n",
    "\n",
    "    while i < len(data):\n",
    "        toCheck = data[i:]\n",
    "\n",
    "        robotName = toCheck[0:robotIDLen]\n",
    "        parsedData[robotName] = (\n",
    "            toCheck[robotIDLen : robotIDLen + coordLen]\n",
    "            + \",\"\n",
    "            + toCheck[robotIDLen + coordLen : robotIDLen + (coordLen * 2)]\n",
    "            + \",\"\n",
    "            + toCheck[\n",
    "                robotIDLen + (coordLen * 2) : robotIDLen + (coordLen * 2) + angleLen\n",
    "            ]\n",
    "        )\n",
    "\n",
    "        i = i + 11\n",
    "\n",
    "        if data[i] == \";\":\n",
    "            break\n",
    "\n",
    "    return parsedData\n",
    "\n",
    "\n",
    "print(parse_string(data))"
   ]
  },
  {
   "cell_type": "code",
   "execution_count": 52,
   "metadata": {},
   "outputs": [
    {
     "data": {
      "text/plain": [
       "'>1111112AA1111222233AB1111222233BA1111222233BB1111222233'"
      ]
     },
     "execution_count": 52,
     "metadata": {},
     "output_type": "execute_result"
    }
   ],
   "source": [
    "data = \"3BB1111222233>1111112AA1111222233AB1111222233BA1111222233BB1111222233>1111112AA111122\"\n",
    "\n",
    "# Find the index of the first occurrence of \">\"\n",
    "start = data.find(\">\")  # +1 to start after the character \">\"\n",
    "\n",
    "# Find the index of the second occurrence of \">\"\n",
    "end = data.find(\">\", start + 1)\n",
    "\n",
    "# Extract the data between the first and second occurrence of \">\"\n",
    "extracted_data = data[start:end]\n",
    "\n",
    "extracted_data"
   ]
  },
  {
   "cell_type": "code",
   "execution_count": 304,
   "metadata": {},
   "outputs": [
    {
     "name": "stdout",
     "output_type": "stream",
     "text": [
      "473740 41 13 212\n"
     ]
    }
   ],
   "source": [
    "start_time = 1705466473.2120728\n",
    "\n",
    "# Extract hours, minutes, seconds, and milliseconds\n",
    "hours = int(start_time // 3600)\n",
    "minutes = int((start_time % 3600) // 60)\n",
    "seconds = int(start_time % 60)\n",
    "millis = int((start_time - int(start_time)) * 1000)\n",
    "\n",
    "print(hours, minutes, seconds, millis)"
   ]
  }
 ],
 "metadata": {
  "kernelspec": {
   "display_name": "rehab-eng",
   "language": "python",
   "name": "python3"
  },
  "language_info": {
   "codemirror_mode": {
    "name": "ipython",
    "version": 3
   },
   "file_extension": ".py",
   "mimetype": "text/x-python",
   "name": "python",
   "nbconvert_exporter": "python",
   "pygments_lexer": "ipython3",
   "version": "3.8.18"
  }
 },
 "nbformat": 4,
 "nbformat_minor": 2
}
